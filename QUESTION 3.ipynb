{
 "cells": [
  {
   "cell_type": "code",
   "execution_count": 44,
   "id": "f864bab2",
   "metadata": {},
   "outputs": [
    {
     "name": "stdout",
     "output_type": "stream",
     "text": [
      "dict_keys(['latitude', 'longitude', 'generationtime_ms', 'utc_offset_seconds', 'timezone', 'timezone_abbreviation', 'elevation', 'hourly_units', 'hourly'])\n",
      "{'time': ['2024-01-11T00:00', '2024-01-11T01:00', '2024-01-11T02:00', '2024-01-11T03:00', '2024-01-11T04:00', '2024-01-11T05:00', '2024-01-11T06:00', '2024-01-11T07:00', '2024-01-11T08:00', '2024-01-11T09:00', '2024-01-11T10:00', '2024-01-11T11:00', '2024-01-11T12:00', '2024-01-11T13:00', '2024-01-11T14:00', '2024-01-11T15:00', '2024-01-11T16:00', '2024-01-11T17:00', '2024-01-11T18:00', '2024-01-11T19:00', '2024-01-11T20:00', '2024-01-11T21:00', '2024-01-11T22:00', '2024-01-11T23:00'], 'temperature_2m': [23.8, 23.5, 23.3, 23.2, 23.1, 23.1, 23.0, 23.0, 24.0, 25.5, 26.6, 27.4, 28.0, 28.1, 28.1, 28.0, 27.6, 26.7, 25.9, 25.2, 24.9, 24.6, 24.3, 24.1]}\n"
     ]
    }
   ],
   "source": [
    "import requests #Import data from the url\n",
    "api_url = \"https://api.open-meteo.com/v1/forecast?latitude=2.5&longitude=112.5&hourly=temperature_2m&timezone=Asia%2FSingapore&forecast_days=1\"\n",
    "response = requests.get(api_url)\n",
    "hourly_data = response.json() # extract the hourly data\n",
    "\n",
    "print(hourly_data.keys()) \n",
    "print(hourly_data[\"hourly\"]) #Print the data\n",
    "\n",
    "\n"
   ]
  },
  {
   "cell_type": "code",
   "execution_count": null,
   "id": "95da8060",
   "metadata": {},
   "outputs": [],
   "source": []
  }
 ],
 "metadata": {
  "kernelspec": {
   "display_name": "Python 3 (ipykernel)",
   "language": "python",
   "name": "python3"
  },
  "language_info": {
   "codemirror_mode": {
    "name": "ipython",
    "version": 3
   },
   "file_extension": ".py",
   "mimetype": "text/x-python",
   "name": "python",
   "nbconvert_exporter": "python",
   "pygments_lexer": "ipython3",
   "version": "3.11.5"
  }
 },
 "nbformat": 4,
 "nbformat_minor": 5
}
