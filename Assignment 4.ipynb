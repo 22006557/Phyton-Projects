{
 "cells": [
  {
   "cell_type": "code",
   "execution_count": 1,
   "id": "6b022a9f",
   "metadata": {},
   "outputs": [
    {
     "name": "stdout",
     "output_type": "stream",
     "text": [
      "Checkout Processed by: Sarah Conor\n",
      "Books Check Out: \n",
      "-1984\n",
      "-Brave New World\n",
      "Checkout duration: 3 Weeks\n",
      "Additional Checkout Details:\n",
      "- Late Fee: $0.25\n",
      "- Renewals Allowed: 2\n",
      "Special Conditions for checkout: \n",
      "- Handle with care\n"
     ]
    }
   ],
   "source": [
    "def checkout_books(librarian_name, *book_titles):\n",
    "    print(\"Checkout Processed by: \" + librarian_name)\n",
    "    print(\"Books Check Out: \")\n",
    "    for book in book_titles:\n",
    "        print(\"-\" + book)\n",
    "\n",
    "checkout_books('Sarah Conor', '1984', 'Brave New World')\n",
    "\n",
    "def checkout_details(checkout_duration, **details):\n",
    "    print(\"Checkout duration: \" + checkout_duration)\n",
    "    print(\"Additional Checkout Details:\")\n",
    "    for detail, value in details.items():  \n",
    "        print(\"- \" + detail.replace('_', ' ').title() + \": \" + str(value))\n",
    "\n",
    "checkout_details('3 Weeks', Late_fee='$0.25', Renewals_Allowed='2')  \n",
    "\n",
    "def speciality(special_condition):\n",
    "    print(\"Special Conditions for checkout: \")\n",
    "    print(\"- \" + special_condition)\n",
    "    \n",
    "speciality('Handle with care')\n",
    "    "
   ]
  },
  {
   "cell_type": "code",
   "execution_count": null,
   "id": "a505436d",
   "metadata": {},
   "outputs": [],
   "source": []
  }
 ],
 "metadata": {
  "kernelspec": {
   "display_name": "Python 3 (ipykernel)",
   "language": "python",
   "name": "python3"
  },
  "language_info": {
   "codemirror_mode": {
    "name": "ipython",
    "version": 3
   },
   "file_extension": ".py",
   "mimetype": "text/x-python",
   "name": "python",
   "nbconvert_exporter": "python",
   "pygments_lexer": "ipython3",
   "version": "3.11.5"
  }
 },
 "nbformat": 4,
 "nbformat_minor": 5
}
