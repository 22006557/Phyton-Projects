{
 "cells": [
  {
   "cell_type": "code",
   "execution_count": 1,
   "id": "99a955a5",
   "metadata": {},
   "outputs": [
    {
     "name": "stdout",
     "output_type": "stream",
     "text": [
      "Enter the first num: 2\n",
      "Enter the second num: 4\n",
      "Enter an operation (+, -, *, /): *\n",
      "The result is: 8.0\n"
     ]
    }
   ],
   "source": [
    "def simple_calculator():\n",
    "    while True:\n",
    "        try:\n",
    "            \n",
    "            num1 = float(input(\"Enter the first num: \"))\n",
    "            num2 = float(input(\"Enter the second num: \"))\n",
    "            operation = input(\"Enter an operation (+, -, *, /): \")\n",
    "            \n",
    "            if operation == '+':\n",
    "                result = num1 + num2\n",
    "            elif operation == '-':\n",
    "                result = num1 - num2\n",
    "            elif operation == '*':\n",
    "                result = num1 * num2\n",
    "            elif operation == '/':\n",
    "                result = num1 /  num2\n",
    "            else:\n",
    "                print(\"Invalid calculation, please choose (+, -, *, /) \")\n",
    "                continue\n",
    "            \n",
    "            print(f\"The result is: {result}\")\n",
    "            break\n",
    "        except ValueError:\n",
    "            print(\"Invalid input. Please enter a number\")\n",
    "        except ZeroDivisionError:\n",
    "            print(\"Error: Division by zero is not allowed\")\n",
    "        except Exception as e:\n",
    "            print(f\"An unexpected error occured: {e}\")\n",
    "    \n",
    "simple_calculator()"
   ]
  },
  {
   "cell_type": "code",
   "execution_count": null,
   "id": "52d56426",
   "metadata": {},
   "outputs": [],
   "source": []
  }
 ],
 "metadata": {
  "kernelspec": {
   "display_name": "Python 3 (ipykernel)",
   "language": "python",
   "name": "python3"
  },
  "language_info": {
   "codemirror_mode": {
    "name": "ipython",
    "version": 3
   },
   "file_extension": ".py",
   "mimetype": "text/x-python",
   "name": "python",
   "nbconvert_exporter": "python",
   "pygments_lexer": "ipython3",
   "version": "3.11.5"
  }
 },
 "nbformat": 4,
 "nbformat_minor": 5
}
